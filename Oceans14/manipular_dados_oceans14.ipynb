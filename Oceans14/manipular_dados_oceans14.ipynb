{
  "nbformat": 4,
  "nbformat_minor": 0,
  "metadata": {
    "colab": {
      "name": "manipular_dados_oceans14.ipynb",
      "provenance": [],
      "collapsed_sections": []
    },
    "kernelspec": {
      "name": "python3",
      "display_name": "Python 3"
    }
  },
  "cells": [
    {
      "cell_type": "code",
      "metadata": {
        "id": "U2TJGIZoubmj",
        "colab_type": "code",
        "colab": {}
      },
      "source": [
        "import pandas as pd\n",
        "from pprint import pprint\n",
        "import os"
      ],
      "execution_count": 1,
      "outputs": []
    },
    {
      "cell_type": "code",
      "metadata": {
        "id": "jhE5lTe1wHVk",
        "colab_type": "code",
        "colab": {}
      },
      "source": [
        "PASTA_DADOS_BRUTOS = 'dados_oceans14'\n",
        "df_final = pd.DataFrame()"
      ],
      "execution_count": 2,
      "outputs": []
    },
    {
      "cell_type": "markdown",
      "metadata": {
        "id": "2b5nJVEPECqy",
        "colab_type": "text"
      },
      "source": [
        "Para cada arquivo, adicionar a coluna 'tick' e concatenar em df_final"
      ]
    },
    {
      "cell_type": "code",
      "metadata": {
        "id": "d6OtBcgM7Hj1",
        "colab_type": "code",
        "colab": {}
      },
      "source": [
        "for arquivo in os.listdir(PASTA_DADOS_BRUTOS):\n",
        "    tick = arquivo.split('.')[0]\n",
        "    df_tick = pd.read_csv(PASTA_DADOS_BRUTOS+'/'+arquivo, encoding='utf-8')\n",
        "\n",
        "    df_tick['tick'] = tick\n",
        "\n",
        "    try:\n",
        "        df_final = pd.concat([df_final, df_tick])\n",
        "    except:\n",
        "        df_final = df_tick.copy()"
      ],
      "execution_count": 3,
      "outputs": []
    },
    {
      "cell_type": "markdown",
      "metadata": {
        "id": "2vwnTJeRD_ni",
        "colab_type": "text"
      },
      "source": [
        "Funções para ajeitar dados em str pra float"
      ]
    },
    {
      "cell_type": "code",
      "metadata": {
        "id": "wat4z-to-xw0",
        "colab_type": "code",
        "colab": {}
      },
      "source": [
        "def tratar_dado_numerico(dado_bruto):\n",
        "    dado = 0 if('---' in str(dado_bruto)) else dado_bruto\n",
        "    if('.' in str(dado) and ',' in str(dado)):\n",
        "        dado = str(dado).replace('.','')\n",
        "    dado = str(dado).replace(',', '.')\n",
        "    dado = float(dado)\n",
        "    return dado\n",
        "\n",
        "def tratar_dado_percentual(dado_bruto):\n",
        "    dado = str(dado_bruto).replace('%', '')\n",
        "    dado = tratar_dado_numerico(dado)\n",
        "    dado = dado/100\n",
        "    return dado"
      ],
      "execution_count": 4,
      "outputs": []
    },
    {
      "cell_type": "markdown",
      "metadata": {
        "id": "S6u7pd2bD3mC",
        "colab_type": "text"
      },
      "source": [
        "Para cada linha de df_final, ajeitar o valor para dado numerico"
      ]
    },
    {
      "cell_type": "code",
      "metadata": {
        "id": "ejHn_og81gfz",
        "colab_type": "code",
        "colab": {}
      },
      "source": [
        "linhas_final = []\n",
        "colunas = list(df_final.columns)\n",
        "for _, linha in df_final.iterrows():\n",
        "    linha_atual = []\n",
        "    linha_atual.append(tratar_dado_numerico(linha['P_L']))\n",
        "    linha_atual.append(linha['ano'])\n",
        "    linha_atual.append(tratar_dado_percentual(linha['margem_liq']))\n",
        "    linha_atual.append(tratar_dado_numerico(linha['divida_liq_EBITDA']))\n",
        "    linha_atual.append(tratar_dado_numerico(linha['liq_corrente']))\n",
        "    linha_atual.append(tratar_dado_numerico(linha['liq_imediata']))\n",
        "    linha_atual.append(tratar_dado_numerico(linha['LPA']))\n",
        "    linha_atual.append(tratar_dado_numerico(linha['VPA']))\n",
        "    linha_atual.append(tratar_dado_numerico(linha['P_VP']))\n",
        "    linha_atual.append(tratar_dado_numerico(linha['P_EBIT']))\n",
        "    linha_atual.append(tratar_dado_numerico(linha['P_EBITDA']))\n",
        "    linha_atual.append(tratar_dado_numerico(linha['P_ativos']))\n",
        "    linha_atual.append(tratar_dado_percentual(linha['margem_EBITDA']))\n",
        "    linha_atual.append(tratar_dado_numerico(linha['PSR']))\n",
        "    linha_atual.append(tratar_dado_percentual(linha['ROE']))\n",
        "    linha_atual.append(tratar_dado_percentual(linha['ROA']))\n",
        "    linha_atual.append(tratar_dado_percentual(linha['ROIC']))\n",
        "    linha_atual.append(tratar_dado_numerico(linha['EV_EBIT']))\n",
        "    linha_atual.append(tratar_dado_numerico(linha['EV_EBITDA']))\n",
        "    linha_atual.append(tratar_dado_percentual(linha['DY']))\n",
        "    linha_atual.append(linha['tick'])\n",
        "\n",
        "    linhas_final.append(linha_atual)\n",
        "\n",
        "df_final_ajeitado = pd.DataFrame(linhas_final, columns=colunas)"
      ],
      "execution_count": 5,
      "outputs": []
    },
    {
      "cell_type": "markdown",
      "metadata": {
        "id": "yMX9wvqHEHWp",
        "colab_type": "text"
      },
      "source": [
        "Printar CSV final, pronto com todos os dados (que deram pra pegar) da Oceans 14"
      ]
    },
    {
      "cell_type": "code",
      "metadata": {
        "id": "4RTt3E5wQjFE",
        "colab_type": "code",
        "colab": {}
      },
      "source": [
        "df_final_ajeitado.to_csv('dados_oceans14_final.csv', index=False)"
      ],
      "execution_count": 8,
      "outputs": []
    }
  ]
}