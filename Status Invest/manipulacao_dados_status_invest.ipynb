{
  "nbformat": 4,
  "nbformat_minor": 0,
  "metadata": {
    "colab": {
      "name": "manipulacao_dados_status_invest.ipynb",
      "provenance": [],
      "collapsed_sections": []
    },
    "kernelspec": {
      "name": "python3",
      "display_name": "Python 3"
    }
  },
  "cells": [
    {
      "cell_type": "code",
      "metadata": {
        "id": "HDRL4RRD-LBB",
        "colab_type": "code",
        "colab": {}
      },
      "source": [
        "import pandas as pd\n",
        "\n",
        "COLUNAS_STATUS_AJEITADAS = {\n",
        "    'TICKER': 'tick',\n",
        "    'PRECO': 'preco',\n",
        "    'P/L': 'P_L',\n",
        "    'P/VP': 'P_VP',\n",
        "    'P/ATIVOS': 'P_ativos',\n",
        "    'MARGEM BRUTA': 'margem_bruta', # Exclusivo\n",
        "    'MARGEM EBIT': 'margem_EBIT',\n",
        "    'MARG. LIQUIDA': 'margem_liq',\n",
        "    'P/EBIT': 'P_EBIT',\n",
        "    'EV/EBIT': 'EV_EBIT',\n",
        "    'DIVIDA LIQUIDA / EBIT': 'divida_liq_EBIT',\n",
        "    'DIV. LIQ. / PATRI.': 'divida_liq_patrimonio', # Exclusivo\n",
        "    'PSR': 'PSR',\n",
        "    'P/CAP. GIRO': 'P_cap_giro',\n",
        "    'P. AT CIR. LIQ.': 'P_cirulante_liq',\n",
        "    'LIQ. CORRENTE': 'liq_corrente',\n",
        "    'PATRIMONIO / ATIVOS': 'patrimonio_ativos', # Exclusivo\n",
        "    'PASSIVOS / ATIVOS': 'passivos_ativos', # Exclusivo\n",
        "    'GIRO ATIVOS': 'giro_ativos', # Exclusivo\n",
        "    'CAGR RECEITAS 5 ANOS': 'receitas_5anos', # Exclusivo\n",
        "    'CAGR LUCROS 5 ANOS': 'lucros_5anos', # Exclusivo\n",
        "    ' LIQUIDEZ MEDIA DIARIA': 'liq_media_diaria' # Exclusivo\n",
        "}\n",
        "\n",
        "DATA_ARQUIVO = '2020_06_15'\n",
        "ARQUIVO_BRUTO = 'dados_brutos_status_invest-'+DATA_ARQUIVO+'.csv'\n",
        "ARQUIVO_LIQUIDO = 'dados_status_invest-'+DATA_ARQUIVO+'.csv'"
      ],
      "execution_count": null,
      "outputs": []
    },
    {
      "cell_type": "code",
      "metadata": {
        "id": "Jze8hcz7-zVv",
        "colab_type": "code",
        "colab": {}
      },
      "source": [
        "df_bruto_status = pd.read_csv(ARQUIVO_BRUTO, encoding='utf-8', sep=';')\n",
        "df_status = df_bruto_status.rename(columns=COLUNAS_STATUS_AJEITADAS)"
      ],
      "execution_count": null,
      "outputs": []
    },
    {
      "cell_type": "code",
      "metadata": {
        "id": "lr3mqoFu_L0A",
        "colab_type": "code",
        "colab": {}
      },
      "source": [
        "def tratar_dado_numerico(dado_bruto):\n",
        "    dado = 0 if('---' in str(dado_bruto)) else dado_bruto\n",
        "    if('.' in str(dado) and ',' in str(dado)):\n",
        "        dado = str(dado).replace('.','')\n",
        "    dado = str(dado).replace(',', '.')\n",
        "    dado = float(dado)\n",
        "    return dado"
      ],
      "execution_count": null,
      "outputs": []
    },
    {
      "cell_type": "code",
      "metadata": {
        "id": "rhahaiUcnrVH",
        "colab_type": "code",
        "colab": {}
      },
      "source": [
        "colunas_numericas = list(df_status.columns)[:]\n",
        "colunas_numericas.remove('tick')\n",
        "for coluna in colunas_numericas:\n",
        "    df_status[coluna] = df_status[coluna].apply(tratar_dado_numerico)"
      ],
      "execution_count": null,
      "outputs": []
    },
    {
      "cell_type": "code",
      "metadata": {
        "id": "pIMVTd8SrjGS",
        "colab_type": "code",
        "colab": {}
      },
      "source": [
        "df_status.fillna(0, inplace=True)"
      ],
      "execution_count": null,
      "outputs": []
    },
    {
      "cell_type": "code",
      "metadata": {
        "id": "pZW9KoscSAXH",
        "colab_type": "code",
        "colab": {}
      },
      "source": [
        "df_status.to_csv(ARQUIVO_LIQUIDO, encoding='utf-8', index=False)"
      ],
      "execution_count": null,
      "outputs": []
    }
  ]
}